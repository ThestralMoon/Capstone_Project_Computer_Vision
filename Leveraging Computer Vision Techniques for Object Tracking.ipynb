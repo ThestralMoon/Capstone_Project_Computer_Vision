{
 "cells": [
  {
   "cell_type": "markdown",
   "id": "900cf462-6ce5-4baa-bfd0-9b5d5afd6da9",
   "metadata": {},
   "source": [
    "Creating a YOLOv7 object tracking model using ByteTrack with preexisting annotations from the VIRAT dataset involves several steps. The VIRAT dataset is a large-scale video dataset that contains annotations for object detection and tracking tasks, making it a valuable resource for developing such a model."
   ]
  },
  {
   "cell_type": "markdown",
   "id": "ca8a5e43-8de0-4f33-9c12-c499c1ab4720",
   "metadata": {},
   "source": [
    "### Data Preparation"
   ]
  },
  {
   "cell_type": "markdown",
   "id": "28df3ea7-d999-435e-b637-07c8a85247e9",
   "metadata": {},
   "source": [
    "The VIRAT dataset was used for the tracking model as it included video sequences and preexisting annotations for object tracking. The data was filtered, parsed, and normalized using image processing techniques using OpenCV and simple dataframe filterations via pandas. YOLOv7 is an upgraded version of the popular YOLO (You Only Look Once) real-time object detection algorithm. Python scripts were created to normalize VIRAT data for YOLO model finetuning as needed. PyTorch was used as the model framework for implementation."
   ]
  },
  {
   "cell_type": "markdown",
   "id": "73044721-0470-4d35-85cc-d4360b3194e4",
   "metadata": {},
   "source": [
    "### ByteTrack Object Tracking Model and Integration with YOLOv7"
   ]
  },
  {
   "cell_type": "markdown",
   "id": "9bc017ff-0596-4120-8ac6-740ac4cd9f11",
   "metadata": {},
   "source": [
    "ByteTrack is an object tracking algorithm that can be integrated with YOLOv7 and other object detection models for object tracking. For integration, the byte_tracker.py class must be modified to fit the detection format of YOLOv7. Creating a object tracking class that implements and instantiates a YOLOv7 model to detect objects in frames and return those detection results to then be passed to the tracker."
   ]
  },
  {
   "cell_type": "markdown",
   "id": "fe43237d-8d0d-4d1c-9792-e7b21303fd19",
   "metadata": {},
   "source": [
    "As seen from the results from the model prototype, the tracker associates a unique id to each object in frame, allowing us to track their path accross frames."
   ]
  },
  {
   "cell_type": "markdown",
   "id": "1da2e1c8-86cc-4058-8953-bdc31e00b3c0",
   "metadata": {},
   "source": [
    "### Metrics, Evaluation, and Finetuning"
   ]
  },
  {
   "cell_type": "markdown",
   "id": "eedb756a-56d4-49b1-af09-1463aeb4f7c8",
   "metadata": {},
   "source": [
    "The YOLOv7-ByteTrack object tracking model can be evaluated using a mean average precision implementation. The model can then be finetuned as needed, primiarly through retraining the model via transfer learning. Other methods involve adjusting hyperparameters and optimizing the tracking algorithm."
   ]
  },
  {
   "cell_type": "markdown",
   "id": "ffee8dc2-5018-4245-a4dc-9846538947d4",
   "metadata": {},
   "source": [
    "### Deployment"
   ]
  },
  {
   "cell_type": "markdown",
   "id": "61dad927-7a76-4252-8185-2e194c3eeb4a",
   "metadata": {},
   "source": [
    "To deploy the YOLOv7-ByteTrack tracking model, we can use Docker to contanerize the model and deploy it to a cloud service of our choice."
   ]
  }
 ],
 "metadata": {
  "kernelspec": {
   "display_name": "Python (Capstone Project)",
   "language": "python",
   "name": "capstone-project"
  },
  "language_info": {
   "codemirror_mode": {
    "name": "ipython",
    "version": 3
   },
   "file_extension": ".py",
   "mimetype": "text/x-python",
   "name": "python",
   "nbconvert_exporter": "python",
   "pygments_lexer": "ipython3",
   "version": "3.9.18"
  }
 },
 "nbformat": 4,
 "nbformat_minor": 5
}
